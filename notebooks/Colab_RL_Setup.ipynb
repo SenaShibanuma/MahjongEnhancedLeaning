{
 "cells": [
  {
   "cell_type": "markdown",
   "id": "8b46ece1",
   "metadata": {},
   "source": [
    "# Google Colab RLセットアップ\n",
    "Google Colab上で麻雀強化学習環境をセットアップし、学習を実行します。"
   ]
  },
  {
   "cell_type": "code",
   "execution_count": null,
   "id": "f6277ae6",
   "metadata": {},
   "outputs": [],
   "source": [
    "# 必要なライブラリのインストール\n",
    "!pip install mahjong torch gymnasium stable-baselines3"
   ]
  },
  {
   "cell_type": "code",
   "execution_count": null,
   "id": "0744767d",
   "metadata": {},
   "outputs": [],
   "source": [
    "# 環境の初期化\n",
    "from mahjong_rl_env.environment import MahjongEnv\n",
    "env = MahjongEnv()"
   ]
  }
 ],
 "metadata": {
  "language_info": {
   "name": "python"
  }
 },
 "nbformat": 4,
 "nbformat_minor": 5
}
