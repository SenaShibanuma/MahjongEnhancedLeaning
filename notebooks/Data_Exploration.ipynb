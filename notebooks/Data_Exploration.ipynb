{
 "cells": [
  {
   "cell_type": "markdown",
   "id": "3db7fb70",
   "metadata": {},
   "source": [
    "# データ解析ノートブック\n",
    "教師あり学習用データの可視化・統計分析を行います。"
   ]
  },
  {
   "cell_type": "code",
   "execution_count": null,
   "id": "709ba08f",
   "metadata": {},
   "outputs": [],
   "source": [
    "import pandas as pd\n",
    "import pickle\n",
    "\n",
    "with open('../data/processed_data/training_dataset.pkl', 'rb') as f:\n",
    "    data = pickle.load(f)\n",
    "\n",
    "# データの先頭を表示\n",
    "print(data[:5])"
   ]
  }
 ],
 "metadata": {
  "language_info": {
   "name": "python"
  }
 },
 "nbformat": 4,
 "nbformat_minor": 5
}
