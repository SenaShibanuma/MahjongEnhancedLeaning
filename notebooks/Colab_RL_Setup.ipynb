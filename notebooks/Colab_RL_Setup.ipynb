{
 "cells": [
  {
   "cell_type": "markdown",
   "id": "8b46ece1",
   "metadata": {},
   "source": [
    "# Google Colab RLセットアップ\n",
    "Google Colab上で麻雀強化学習環境をセットアップし、学習を実行します。"
   ]
  },
  {
   "cell_type": "markdown",
   "id": "c93d2bfc",
   "metadata": {},
   "source": [
    "# # 麻雀 Transformer AI 強化学習 (PPO + Custom Policy)\n",
    "\n",
    "**目的:** 事前学習済みの Transformer モデルを基盤として、Stable Baselines3 の PPO アルゴリズムを用い、カスタム麻雀環境 (`MahjongEnv`) で自己対戦学習を実行します。\n",
    "\n",
    "---\n",
    "\n",
    "## 1. 環境準備とライブラリインストール\n",
    "\n",
    "### **GPU の選択:**\n",
    "メニューから **「ランタイム」 > 「ランタイムのタイプを変更」** を選択し、**「ハードウェアアクセラレータ」** で **「GPU」** を選択してください。"
   ]
  },
  {
   "cell_type": "code",
   "execution_count": null,
   "id": "32cc8b49",
   "metadata": {},
   "outputs": [],
   "source": [
    "# 必要なライブラリのインストール\n",
    "!pip install mahjong gymnasium stable-baselines3[extra] torch numpy\n",
    "print(\"Required libraries installed.\")\n",
    "\n",
    "# --- GPU の利用状況を確認 ---\n",
    "import torch\n",
    "if torch.cuda.is_available():\n",
    "    device = \"cuda\"\n",
    "    print(f\"✅ GPU available: {torch.cuda.get_device_name(0)}\")\n",
    "else:\n",
    "    device = \"cpu\"\n",
    "    print(\"❌ GPU not available. Using CPU.\")"
   ]
  },
  {
   "cell_type": "code",
   "execution_count": null,
   "id": "15192607",
   "metadata": {},
   "outputs": [],
   "source": [
    "from google.colab import drive\n",
    "import os\n",
    "import sys\n",
    "\n",
    "# Google Driveをマウント\n",
    "drive.mount('/content/gdrive')\n",
    "\n",
    "# 【重要】プロジェクトのルートディレクトリをあなたの環境に合わせて設定してください\n",
    "PROJECT_ROOT = '/content/gdrive/MyDrive/mahjong-rl-transformer'\n",
    "\n",
    "# 作業ディレクトリを設定し、パスに追加\n",
    "if not os.path.exists(PROJECT_ROOT):\n",
    "    os.makedirs(PROJECT_ROOT)\n",
    "os.chdir(PROJECT_ROOT)\n",
    "\n",
    "if PROJECT_ROOT not in sys.path:\n",
    "    sys.path.append(PROJECT_ROOT)\n",
    "\n",
    "print(f\"Working directory set to: {os.getcwd()}\")"
   ]
  },
  {
   "cell_type": "code",
   "execution_count": null,
   "id": "0d06942e",
   "metadata": {},
   "outputs": [],
   "source": [
    "# mahjong_rl_env/environment.py などからクラスをインポート\n",
    "from mahjong_rl_env.environment import MahjongEnv\n",
    "from mahjong_rl_env.feature_converter import get_context_vector \n",
    "from models.custom_policy import MaskedTransformerPolicy, TransformerFeatureExtractor\n",
    "from stable_baselines3 import PPO\n",
    "\n",
    "print(\"Custom Python modules loaded successfully.\")"
   ]
  },
  {
   "cell_type": "code",
   "execution_count": null,
   "id": "86037e6d",
   "metadata": {},
   "outputs": [],
   "source": [
    "# --- ハイパーパラメータ設定 ---\n",
    "RL_AGENT_ID = 0           \n",
    "FEATURES_DIM = 512        \n",
    "LEARNING_RATE = 3e-5      \n",
    "TOTAL_TIMESTEPS = 5_000_000 # 総学習ステップ数 (必要に応じて調整)\n",
    "N_STEPS = 2048            \n",
    "\n",
    "# 1. 環境のインスタンス化\n",
    "env = MahjongEnv(agent_id=RL_AGENT_ID, opponent_policy=None) \n",
    "print(f\"MahjongEnv created. RL Agent is Player {RL_AGENT_ID}.\")\n",
    "\n",
    "\n",
    "# 2. カスタムポリシーのための引数設定\n",
    "policy_kwargs = dict(\n",
    "    features_extractor_class=TransformerFeatureExtractor,\n",
    "    features_extractor_kwargs=dict(\n",
    "        features_dim=FEATURES_DIM,\n",
    "        # ★ ここで TransformerFeatureExtractor 内の重みロードが実行されます\n",
    "    ),\n",
    "    # Actor/Critic の MLP 層の定義\n",
    "    net_arch=[dict(pi=[256, 256], vf=[256, 256])] \n",
    ")\n",
    "\n",
    "# 3. PPO モデルの初期化\n",
    "MODEL_LOG_PATH = os.path.join(PROJECT_ROOT, \"tensorboard_logs/mahjong_rl/\")\n",
    "\n",
    "model = PPO(\n",
    "    MaskedTransformerPolicy,\n",
    "    env,\n",
    "    learning_rate=LEARNING_RATE,\n",
    "    n_steps=N_STEPS,\n",
    "    batch_size=N_STEPS, \n",
    "    n_epochs=10,\n",
    "    gamma=0.99,\n",
    "    verbose=1,\n",
    "    tensorboard_log=MODEL_LOG_PATH,\n",
    "    device=device,\n",
    "    policy_kwargs=policy_kwargs\n",
    ")\n",
    "\n",
    "print(\"PPO Model and MaskedTransformerPolicy initialized.\")\n",
    "print(\"✅ Pre-trained weights should be loaded inside TransformerFeatureExtractor's __init__.\")"
   ]
  }
 ],
 "metadata": {
  "language_info": {
   "name": "python"
  }
 },
 "nbformat": 4,
 "nbformat_minor": 5
}
